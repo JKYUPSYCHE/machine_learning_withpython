{
 "cells": [
  {
   "cell_type": "markdown",
   "id": "selective-boating",
   "metadata": {},
   "source": [
    "### 리스트 & 튜플\n",
    "- 복수개의 값을 담을 수 있는 데이터 구조\n",
    "- list - mutable (생성된 후에 변경 가능 - 동적)\n",
    "- tuple - immutable (생성된 후에 변경 불가능 - 정적)"
   ]
  },
  {
   "cell_type": "markdown",
   "id": "antique-transport",
   "metadata": {},
   "source": [
    "#### 리스트 초기화\n",
    "- [ ]안에 값을 담아서 생성\n",
    "- **list( )**로 생성 - 다른 데이터 타입을 리스트로 변환할 때도 사용\n",
    "- **str.split( )**함수로 생성 - 구분자로 구분되는 리스트를 반환"
   ]
  },
  {
   "cell_type": "code",
   "execution_count": 1,
   "id": "cosmetic-catering",
   "metadata": {},
   "outputs": [
    {
     "name": "stdout",
     "output_type": "stream",
     "text": [
      "[]\n"
     ]
    }
   ],
   "source": [
    "a = []\n",
    "print(a)"
   ]
  },
  {
   "cell_type": "code",
   "execution_count": 2,
   "id": "polar-biography",
   "metadata": {},
   "outputs": [
    {
     "name": "stdout",
     "output_type": "stream",
     "text": [
      "[1, 2, 3, 5, 10]\n"
     ]
    }
   ],
   "source": [
    "a = [1, 2, 3, 5, 10]\n",
    "print(a)"
   ]
  },
  {
   "cell_type": "code",
   "execution_count": 4,
   "id": "painful-south",
   "metadata": {},
   "outputs": [
    {
     "name": "stdout",
     "output_type": "stream",
     "text": [
      "['korea', 'canada', 1, 23, [34, 56]]\n"
     ]
    }
   ],
   "source": [
    "a = ['korea', 'canada', 1, 23, [34,56]] # 리스트는 데이터 타입과 관계없이 담을 수 있다.\n",
    "print(a)"
   ]
  },
  {
   "cell_type": "code",
   "execution_count": 5,
   "id": "pediatric-subscriber",
   "metadata": {},
   "outputs": [
    {
     "name": "stdout",
     "output_type": "stream",
     "text": [
      "['h', 'e', 'l', 'l', 'o', ' ', 'w', 'o', 'r', 'l', 'd']\n"
     ]
    }
   ],
   "source": [
    "a = 'hello world'\n",
    "b = list(a)\n",
    "print(b)"
   ]
  },
  {
   "cell_type": "code",
   "execution_count": 7,
   "id": "hungry-antigua",
   "metadata": {},
   "outputs": [
    {
     "name": "stdout",
     "output_type": "stream",
     "text": [
      "['hello', 'world', 'nice', 'weather']\n"
     ]
    }
   ],
   "source": [
    "a = 'hello world nice weather'\n",
    "b = a.split()\n",
    "print(b)"
   ]
  },
  {
   "cell_type": "markdown",
   "id": "ordered-berlin",
   "metadata": {},
   "source": [
    "#### 리스트 indexing\n",
    "- 문자열의 인덱싱과 동일하게 동작\n",
    "- [  ] 연산자를 이용하여 항목 얻어오기\n",
    "- [i] : i번째 원소를 반환\n",
    "- i가 음수인 경우도 가능하며 마지막 원소가 -1로 하여 앞으로 갈때마다 1씩 감소"
   ]
  },
  {
   "cell_type": "code",
   "execution_count": 8,
   "id": "small-helping",
   "metadata": {},
   "outputs": [
    {
     "name": "stdout",
     "output_type": "stream",
     "text": [
      "3\n",
      "6\n"
     ]
    }
   ],
   "source": [
    "a = [1, 2, 3, 4, 5, 6]\n",
    "print(a[2])\n",
    "print(a[5])"
   ]
  },
  {
   "cell_type": "markdown",
   "id": "initial-superintendent",
   "metadata": {},
   "source": [
    "#### 리스트 개별 아이템에 접근"
   ]
  },
  {
   "cell_type": "code",
   "execution_count": 15,
   "id": "aquatic-banking",
   "metadata": {},
   "outputs": [
    {
     "name": "stdout",
     "output_type": "stream",
     "text": [
      "jello world\n",
      "hello world\n"
     ]
    }
   ],
   "source": [
    "# a = 'hello world'\n",
    "# print(a[0])\n",
    "# a[0] = j      >> Error. 문자열은 불변객체로서 한 번 생성되면 절대 바뀌지 않는다. immutable\n",
    "\n",
    "a = 'hello world'\n",
    "d = a.replace('h', 'j')\n",
    "print(d)\n",
    "print(a)    # a는 replace 함수에 의해 바뀐 것이 아니다."
   ]
  },
  {
   "cell_type": "code",
   "execution_count": 16,
   "id": "convinced-logging",
   "metadata": {},
   "outputs": [
    {
     "name": "stdout",
     "output_type": "stream",
     "text": [
      "[100, 2, 3, 4, 90]\n"
     ]
    }
   ],
   "source": [
    "a = [1, 2, 3, 4, 5]\n",
    "a[0] = 100\n",
    "a[-1] = 90\n",
    "\n",
    "print(a)     # 리스트는 개별 인덱스에 접근하여 값을 바꿀 수 있다. mutable"
   ]
  },
  {
   "cell_type": "markdown",
   "id": "ongoing-cathedral",
   "metadata": {},
   "source": [
    "#### 리스트 슬라이싱"
   ]
  },
  {
   "cell_type": "code",
   "execution_count": 22,
   "id": "coordinated-crowd",
   "metadata": {},
   "outputs": [
    {
     "name": "stdout",
     "output_type": "stream",
     "text": [
      "[5, 6, 7]\n",
      "[1, 2, 3, 4, 5, 6, 7]\n",
      "[4, 5, 6, 7, 8]\n",
      "[2, 4, 6]\n",
      "[2, 5]\n"
     ]
    }
   ],
   "source": [
    "a = [1, 2, 3, 4, 5, 6, 7, 8]\n",
    "print(a[4:7])\n",
    "print(a[:7])\n",
    "print(a[3:])\n",
    "\n",
    "# slicing 이 실제로 받는 변수들\n",
    "# start:end:increment\n",
    "# increment의 default는 1이다.\n",
    "\n",
    "print(a[1:7:2])\n",
    "print(a[1:7:3])"
   ]
  },
  {
   "cell_type": "markdown",
   "id": "liberal-receipt",
   "metadata": {},
   "source": [
    "#### list 멤버함수\n",
    "- append( )\n",
    "  - 리스트의 **끝에 항목을 추가**함"
   ]
  },
  {
   "cell_type": "code",
   "execution_count": 25,
   "id": "given-think",
   "metadata": {},
   "outputs": [
    {
     "name": "stdout",
     "output_type": "stream",
     "text": [
      "[1, 2, 3, 4, 5]\n",
      "[1, 2, 3, 4, 5, 10]\n"
     ]
    }
   ],
   "source": [
    "a = [1, 2, 3, 4, 5]\n",
    "print(a)\n",
    "a.append(10)\n",
    "print(a)"
   ]
  },
  {
   "cell_type": "markdown",
   "id": "little-disabled",
   "metadata": {},
   "source": [
    "- extend( )\n",
    "  - 리스트를 연장한다\n",
    "  - +=로도 가능하다"
   ]
  },
  {
   "cell_type": "code",
   "execution_count": 30,
   "id": "collected-banana",
   "metadata": {},
   "outputs": [
    {
     "name": "stdout",
     "output_type": "stream",
     "text": [
      "[1, 2, 3, 4, 5, 6, 7, 8, 9, 10]\n"
     ]
    }
   ],
   "source": [
    "a = [1, 2, 3, 4, 5]\n",
    "b = [6, 7, 8, 9, 10]\n",
    "# [1, 2, 3, 4, 5, 6, 7, 8, 9, 10] 을 만들고자 할 때,\n",
    "\n",
    "# a.append(b)\n",
    "# print(a)     이 경우는 b 리스트가 a에 아이템으로 들어가게 된다.\n",
    "\n",
    "a.extend(b)\n",
    "print(a)\n",
    "# or a+=b 로도 가능하다."
   ]
  },
  {
   "cell_type": "markdown",
   "id": "fixed-dollar",
   "metadata": {},
   "source": [
    "- insert( ) 로 항목 추가\n",
    "  - 리스트의 원하는 위치에 추가 가능\n",
    "  - 앞에 인덱스를, 뒤에 아이템을 명시"
   ]
  },
  {
   "cell_type": "code",
   "execution_count": 32,
   "id": "balanced-amplifier",
   "metadata": {},
   "outputs": [
    {
     "name": "stdout",
     "output_type": "stream",
     "text": [
      "[1, 40, 3, 4, 5, 6]\n"
     ]
    }
   ],
   "source": [
    "a = [1, 3, 4, 5, 6]\n",
    "a.insert(1, 40)    # 1뒤에 40이라는 아이템을 추가\n",
    " \n",
    "print(a)"
   ]
  },
  {
   "cell_type": "markdown",
   "id": "friendly-ivory",
   "metadata": {},
   "source": [
    "- remove( ) \n",
    "  - 값으로 항목 삭제"
   ]
  },
  {
   "cell_type": "code",
   "execution_count": 34,
   "id": "verified-engineering",
   "metadata": {},
   "outputs": [
    {
     "name": "stdout",
     "output_type": "stream",
     "text": [
      "[1, 2, 4, 5]\n"
     ]
    }
   ],
   "source": [
    "a = [1, 2, 30, 4, 5]\n",
    "a.remove(30)    # 리스트 안에 없는 요소를 지우면 Error\n",
    "\n",
    "print(a)"
   ]
  },
  {
   "cell_type": "markdown",
   "id": "surprising-completion",
   "metadata": {},
   "source": [
    "- pop( ) \n",
    "  - 지우고자 하는 아이템을 **반환 후, 삭제**"
   ]
  },
  {
   "cell_type": "code",
   "execution_count": 37,
   "id": "short-sword",
   "metadata": {},
   "outputs": [
    {
     "name": "stdout",
     "output_type": "stream",
     "text": [
      "[1, 2, 3, 4]\n",
      "[1, 3, 4]\n"
     ]
    }
   ],
   "source": [
    "a = [1, 2, 3, 4, 5]\n",
    "a.pop()\n",
    "\n",
    "print(a)\n",
    "\n",
    "a.pop(1)\n",
    "\n",
    "print(a)"
   ]
  },
  {
   "cell_type": "markdown",
   "id": "experienced-decimal",
   "metadata": {},
   "source": [
    "- index( )\n",
    "  - 찾고자 하는 값의 인덱스 반환"
   ]
  },
  {
   "cell_type": "code",
   "execution_count": 39,
   "id": "center-jewel",
   "metadata": {},
   "outputs": [
    {
     "data": {
      "text/plain": [
       "4"
      ]
     },
     "execution_count": 39,
     "metadata": {},
     "output_type": "execute_result"
    }
   ],
   "source": [
    "a = [2, 6, 7, 9, 10]\n",
    "a.index(10)     # 찾고자 하는 아이템이 리스트의 몇 번째에 있는지"
   ]
  },
  {
   "cell_type": "markdown",
   "id": "faced-assignment",
   "metadata": {},
   "source": [
    "- **in 키워드**\n",
    "  - 리스트 내에 해당 값이 존재하는지 확인\n",
    "  - value in [list]\n",
    "  - True, False 중 한가지로 반환"
   ]
  },
  {
   "cell_type": "code",
   "execution_count": 41,
   "id": "julian-biodiversity",
   "metadata": {},
   "outputs": [
    {
     "name": "stdout",
     "output_type": "stream",
     "text": [
      "False\n"
     ]
    }
   ],
   "source": [
    "a = [1, 2, 3, 4, 5, 10]\n",
    "b = 7\n",
    "\n",
    "c = b in a   # b가 a 안에 있는지 (T or F)\n",
    "\n",
    "print(c)"
   ]
  },
  {
   "cell_type": "markdown",
   "id": "hungry-joint",
   "metadata": {},
   "source": [
    "- list 정렬\n",
    "  - sort( ) - 리스트 자체를 내부적으로 정렬\n",
    "  - sorted( ) - 리스트의 정렬된 복사본을 반환  > 복사된 새로운 리스트를 반환"
   ]
  },
  {
   "cell_type": "code",
   "execution_count": 44,
   "id": "written-accountability",
   "metadata": {},
   "outputs": [
    {
     "name": "stdout",
     "output_type": "stream",
     "text": [
      "[21, 20, 19, 10, 9, 8, 7, 7, 2, 1]\n",
      "[1, 2, 7, 7, 8, 9, 10, 19, 20, 21]\n"
     ]
    }
   ],
   "source": [
    "a = [9, 10 ,7, 19, 1, 2, 20, 21, 7, 8]\n",
    "a.sort(reverse = True)\n",
    "\n",
    "print(a)\n",
    "\n",
    "a.sort()\n",
    "\n",
    "print(a)"
   ]
  },
  {
   "cell_type": "code",
   "execution_count": null,
   "id": "contained-characteristic",
   "metadata": {},
   "outputs": [],
   "source": []
  }
 ],
 "metadata": {
  "kernelspec": {
   "display_name": "Python 3",
   "language": "python",
   "name": "python3"
  },
  "language_info": {
   "codemirror_mode": {
    "name": "ipython",
    "version": 3
   },
   "file_extension": ".py",
   "mimetype": "text/x-python",
   "name": "python",
   "nbconvert_exporter": "python",
   "pygments_lexer": "ipython3",
   "version": "3.8.5"
  }
 },
 "nbformat": 4,
 "nbformat_minor": 5
}
