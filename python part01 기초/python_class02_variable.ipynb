{
 "cells": [
  {
   "cell_type": "code",
   "execution_count": 2,
   "id": "quality-projector",
   "metadata": {},
   "outputs": [
    {
     "name": "stdout",
     "output_type": "stream",
     "text": [
      "21.4\n"
     ]
    }
   ],
   "source": [
    "a = 10   # int\n",
    "b = 11.4 # float"
   ]
  },
  {
   "cell_type": "code",
   "execution_count": 4,
   "id": "comic-horizontal",
   "metadata": {},
   "outputs": [],
   "source": [
    "# this line is very important - 주석에 대한 연습. 중요한 코멘트를 입력하자\n",
    "# so don't delete these lines"
   ]
  },
  {
   "cell_type": "code",
   "execution_count": 9,
   "id": "adequate-advocate",
   "metadata": {},
   "outputs": [
    {
     "name": "stdout",
     "output_type": "stream",
     "text": [
      "10 11.4\n",
      "10 10 200 11.4\n"
     ]
    }
   ],
   "source": [
    "print(a,b)\n",
    "print(a, 10, 200, b)"
   ]
  },
  {
   "cell_type": "markdown",
   "id": "silent-publication",
   "metadata": {},
   "source": [
    "#### print 함수의 설정\n",
    "#### sep : 구분자, 각 출력할 변수 사이에서 구별하는 역할을 함\n",
    "#### end : 마지막에 출력할 문자열\n",
    "#### print 함수 없는 변수의 호출은 output으로 변수의 값이 출력된다."
   ]
  },
  {
   "cell_type": "code",
   "execution_count": 10,
   "id": "protected-hamilton",
   "metadata": {},
   "outputs": [
    {
     "name": "stdout",
     "output_type": "stream",
     "text": [
      "10*11.4*10*100!!"
     ]
    }
   ],
   "source": [
    "print(a, b, 10, 100, sep='*',end='!!')"
   ]
  },
  {
   "cell_type": "code",
   "execution_count": 12,
   "id": "equal-circular",
   "metadata": {},
   "outputs": [
    {
     "name": "stdout",
     "output_type": "stream",
     "text": [
      "10\n"
     ]
    },
    {
     "data": {
      "text/plain": [
       "10"
      ]
     },
     "execution_count": 12,
     "metadata": {},
     "output_type": "execute_result"
    }
   ],
   "source": [
    "print(a)\n",
    "a"
   ]
  },
  {
   "cell_type": "code",
   "execution_count": 15,
   "id": "sapphire-baltimore",
   "metadata": {},
   "outputs": [
    {
     "name": "stdout",
     "output_type": "stream",
     "text": [
      "True\n",
      "False\n",
      "True\n",
      "False\n",
      "False\n",
      "True\n",
      "True\n",
      "<class 'bool'>\n"
     ]
    }
   ],
   "source": [
    "a = 5\n",
    "b = 4\n",
    "\n",
    "print(a > b)  # True\n",
    "print(a < b)  # False\n",
    "print(a >= b) # True\n",
    "print(a <= b) # False\n",
    "print(a == b) # False\n",
    "print(a != b) # True\n",
    "\n",
    "c = a > b\n",
    "print(c)      # True\n",
    "print(type(c))# bool"
   ]
  },
  {
   "cell_type": "code",
   "execution_count": 17,
   "id": "younger-console",
   "metadata": {},
   "outputs": [],
   "source": [
    "a = 9\n",
    "print(a)      # 9\n",
    "print(a - 3)  # 6\n",
    "print(a)      # 9\n",
    "\n",
    "# 변수의 값은 대입이 발생하기 전까지는 절대 바뀌지 않는다."
   ]
  },
  {
   "cell_type": "code",
   "execution_count": 18,
   "id": "retained-monroe",
   "metadata": {},
   "outputs": [
    {
     "name": "stdout",
     "output_type": "stream",
     "text": [
      "6\n"
     ]
    }
   ],
   "source": [
    "a = 9\n",
    "a -= 3    # 증감 연산자를 활용하여 코드 단순화\n",
    "print(a)"
   ]
  },
  {
   "cell_type": "markdown",
   "id": "premium-current",
   "metadata": {},
   "source": [
    "#### 문자열에 대하여"
   ]
  },
  {
   "cell_type": "code",
   "execution_count": 25,
   "id": "derived-doubt",
   "metadata": {},
   "outputs": [
    {
     "name": "stdout",
     "output_type": "stream",
     "text": [
      "\"Hello\" World\n",
      "Hello World\n",
      "Hello World.  It is wonderful world\n"
     ]
    }
   ],
   "source": [
    "a = '\"Hello\" World'\n",
    "b = \"Hello World\"\n",
    "c = \"Hello World.  It is wonderful world\"\n",
    "print(a)\n",
    "print(b)\n",
    "print(c)"
   ]
  },
  {
   "cell_type": "code",
   "execution_count": 28,
   "id": "broadband-colorado",
   "metadata": {},
   "outputs": [
    {
     "name": "stdout",
     "output_type": "stream",
     "text": [
      "Hello\n",
      "\n",
      "World\n",
      "Hello\n",
      "World\n"
     ]
    }
   ],
   "source": [
    "c = '''Hello\n",
    "\n",
    "World'''\n",
    "d = \"\"\"Hello\n",
    "World\"\"\"\n",
    "\n",
    "print(c)\n",
    "print(d)"
   ]
  },
  {
   "cell_type": "markdown",
   "id": "engaged-international",
   "metadata": {},
   "source": [
    "#### escape string (이스케이프 문자)\n",
    "- 문자열내의 일부 문자의 의미를 달리하여 특정한 효과를 주는 것"
   ]
  },
  {
   "cell_type": "markdown",
   "id": "threatened-cookie",
   "metadata": {},
   "source": [
    "#### indexing과 slicing (문자열 인덱스 및 추출)\n",
    "- 문자열의 각 문자는 순서가 있음\n",
    "- 이때 각 문자열의 순서를 인덱스라고 함\n",
    "- 첫번째 문자부터 마지막까지 차례대로의 순서를 가짐\n",
    "- 첫번째 시작문자의 순서는 0으로 시작(1이 아닌것에 유의)\n",
    "- python은 음수 인덱스를 지원한다. (-1은 마지막 인덱스)\n",
    "\n",
    "- 인덱스가 하나의 문자만을 추출한다면, slicing은 부분 문자열을 추출한다.\n",
    "- [시작:끝]의 형태로 명시하며, [시작,끝)에 해당하는 부분의 문자열을 추출. (끝에 해당하는 인덱스는 불포함)\n",
    "- 시작, 끝 인덱스가 생략되어 있다면, 0부터 혹은 끝까지로 간주"
   ]
  },
  {
   "cell_type": "code",
   "execution_count": 37,
   "id": "political-medicare",
   "metadata": {},
   "outputs": [
    {
     "name": "stdout",
     "output_type": "stream",
     "text": [
      "d\n",
      "d\n"
     ]
    }
   ],
   "source": [
    "a = 'Hello World' # 길이 : 11, 마지막 인덱스 : 10\n",
    "print(a[10])\n",
    "\n",
    "print(a[-1])"
   ]
  },
  {
   "cell_type": "code",
   "execution_count": 48,
   "id": "medieval-housing",
   "metadata": {},
   "outputs": [
    {
     "name": "stdout",
     "output_type": "stream",
     "text": [
      "Hell\n",
      "ello W\n",
      "Hello\n",
      "lo World\n",
      "ello World\n",
      "Hello World\n"
     ]
    }
   ],
   "source": [
    "a= \"Hello World\"\n",
    "print(a[0:4])\n",
    "print(a[1:7])\n",
    "print(a[:5])\n",
    "print(a[3:])\n",
    "print(a[1:11])\n",
    "print(a[:])"
   ]
  },
  {
   "cell_type": "markdown",
   "id": "rotary-result",
   "metadata": {},
   "source": [
    "#### 문자열 함수\n",
    "- 문자열은 여러가지 기능 제공을 위한 함수를 내장\n",
    "- 함수란 특정 기능을 하는 코드로 언제든지 호출하여 해당 기능을 사용 가능하도록 구성한 코드"
   ]
  },
  {
   "cell_type": "code",
   "execution_count": 49,
   "id": "alternative-winning",
   "metadata": {},
   "outputs": [
    {
     "data": {
      "text/plain": [
       "'HELLO WORLD'"
      ]
     },
     "execution_count": 49,
     "metadata": {},
     "output_type": "execute_result"
    }
   ],
   "source": [
    "a = \"Hello World\"\n",
    "a.upper()"
   ]
  },
  {
   "cell_type": "markdown",
   "id": "suited-pierre",
   "metadata": {},
   "source": [
    "- replace(바꿀대상, 바꾸는 글자)\n",
    "  - 문자열 내의 특정 문자를 치환"
   ]
  },
  {
   "cell_type": "code",
   "execution_count": 52,
   "id": "identical-broadcast",
   "metadata": {},
   "outputs": [
    {
     "data": {
      "text/plain": [
       "'jello world'"
      ]
     },
     "execution_count": 52,
     "metadata": {},
     "output_type": "execute_result"
    }
   ],
   "source": [
    "a = 'hello world'\n",
    "a.replace('h','j')"
   ]
  },
  {
   "cell_type": "markdown",
   "id": "oriental-eagle",
   "metadata": {},
   "source": [
    "- format\n",
    "  - 문자열내의 특정한 값을 뱐수로부터 초기화하여 동적으로 문자열을 생성"
   ]
  },
  {
   "cell_type": "code",
   "execution_count": 53,
   "id": "strange-selection",
   "metadata": {},
   "outputs": [
    {
     "name": "stdout",
     "output_type": "stream",
     "text": [
      "오늘은 기온{}도 이고, 비올 확률은 {}% 입니다.\n",
      "오늘은 기온25.5도 이고, 비올 확률은 80.0% 입니다.\n"
     ]
    }
   ],
   "source": [
    "temperature = 25.5\n",
    "prob = 80.0\n",
    "a = '오늘은 기온{}도 이고, 비올 확률은 {}% 입니다.'\n",
    "print(a)\n",
    "a = '오늘은 기온{}도 이고, 비올 확률은 {}% 입니다.'.format(temperature, prob)\n",
    "print(a)"
   ]
  },
  {
   "cell_type": "markdown",
   "id": "chinese-ranch",
   "metadata": {},
   "source": [
    "- split\n",
    "  - 문자열을 특정한 문자와 구분하여 문자열의 리스트로 치환"
   ]
  },
  {
   "cell_type": "code",
   "execution_count": 61,
   "id": "activated-season",
   "metadata": {},
   "outputs": [
    {
     "data": {
      "text/plain": [
       "['hello', 'world', 'what', 'a', 'nice', 'weather']"
      ]
     },
     "execution_count": 61,
     "metadata": {},
     "output_type": "execute_result"
    }
   ],
   "source": [
    "a = 'hello world what a nice weather'\n",
    "a.split()     # 공백을 기준으로 문자열을 나눔\n",
    "a.split('w')  # w를 기준으로 문자열을 나눔 (해당 문자열을 포함되지 않는다.)"
   ]
  }
 ],
 "metadata": {
  "kernelspec": {
   "display_name": "Python 3",
   "language": "python",
   "name": "python3"
  },
  "language_info": {
   "codemirror_mode": {
    "name": "ipython",
    "version": 3
   },
   "file_extension": ".py",
   "mimetype": "text/x-python",
   "name": "python",
   "nbconvert_exporter": "python",
   "pygments_lexer": "ipython3",
   "version": "3.8.5"
  }
 },
 "nbformat": 4,
 "nbformat_minor": 5
}
