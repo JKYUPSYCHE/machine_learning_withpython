{
 "cells": [
  {
   "cell_type": "markdown",
   "metadata": {},
   "source": [
    "### condition\n",
    "- 특정 조건을 만족하는 경우에만 수행할 작업이 있는 경우 사용\n",
    "- 모든 조건은 boolean으로 표현 된다. (예외 사항은 아래에)\n",
    "- if elif else 키워드가 사용\n",
    "- 조건문의 경우, if, elif, else 블록에 종속된 코드는 들여쓰기로 표현 가능\n",
    "- 즉 아래 코드에서와 같이, 조건문 아래에 들여쓰기 된 2줄의 코드만이 조건문의 조건에 따라 수행될 수도, 수행되지 않을 수도 있는 코드\n",
    "- 들여쓰기 된 코드를 블록(block), 또는 코드블록이라고 함\n",
    "- python에서 모든 블록의 시작점의 마지막에는 콜론(:) 추가가 필요하다.\n",
    "\n",
    "``` python\n",
    "if 6 >= 5:\n",
    "    print('6 is greater than 5')\n",
    "    print('yeah, it is true')\n",
    "    \n",
    "print('This code is not belongs to if statements')\n",
    "```"
   ]
  },
  {
   "cell_type": "code",
   "execution_count": 1,
   "metadata": {},
   "outputs": [
    {
     "name": "stdout",
     "output_type": "stream",
     "text": [
      "6 is greater than 5\n",
      "yeah, it is true\n",
      "This code is not belongs to if statements\n"
     ]
    }
   ],
   "source": [
    "if 6 >= 5:\n",
    "    print('6 is greater than 5')\n",
    "    print('yeah, it is true')\n",
    "    \n",
    "print('This code is not belongs to if statements')"
   ]
  },
  {
   "cell_type": "code",
   "execution_count": 2,
   "metadata": {},
   "outputs": [
    {
     "name": "stdout",
     "output_type": "stream",
     "text": [
      "This code is not belongs to if statements\n"
     ]
    }
   ],
   "source": [
    "if 6 == 5:\n",
    "    print('6 is greater than 5')\n",
    "    print('yeah, it is true')\n",
    "    \n",
    "print('This code is not belongs to if statements')"
   ]
  },
  {
   "cell_type": "markdown",
   "metadata": {},
   "source": [
    "### boolean 연산자 우선순위\n",
    "- NOT > AND > OR\n",
    "- 괄호를 사용하여 연산자 우선을 바꿀 수 있다."
   ]
  },
  {
   "cell_type": "markdown",
   "metadata": {},
   "source": [
    "### if의 조건이 bool이 아닌 경우\n",
    "- 일반적으로 조건문에는 bool이 주로 위치 함\n",
    "- 하지만, 정수, 실수, 문자열 리스트 등 기본 타입도 조건에 사용 가능\n",
    "- **False로 간주되는 값 (각 타입의 기본값)**\n",
    "  - None\n",
    "  - 0\n",
    "  - 0.0\n",
    "  - ''\n",
    "  - [] > 빈 리스트\n",
    "  - () > 빈 튜플\n",
    "  - { } > 빈 딕셔너리\n",
    "  - set( ) > 빈 집합\n",
    "- **그 밖에는 모두 True**로 간주"
   ]
  },
  {
   "cell_type": "code",
   "execution_count": 3,
   "metadata": {},
   "outputs": [
    {
     "name": "stdout",
     "output_type": "stream",
     "text": [
      "yes\n"
     ]
    }
   ],
   "source": [
    "a = [1, 2, 3, 4]\n",
    "if a:\n",
    "    print('yes')"
   ]
  },
  {
   "cell_type": "code",
   "execution_count": 6,
   "metadata": {},
   "outputs": [
    {
     "name": "stdout",
     "output_type": "stream",
     "text": [
      "it did not happen\n"
     ]
    }
   ],
   "source": [
    "a = []\n",
    "if a:\n",
    "    print('yes')\n",
    "print('it did not happen')"
   ]
  },
  {
   "cell_type": "code",
   "execution_count": 3,
   "metadata": {},
   "outputs": [
    {
     "name": "stdout",
     "output_type": "stream",
     "text": [
      "12\n"
     ]
    }
   ],
   "source": [
    "# 짝수인 경우에는 어떤 처리를 하고\n",
    "# 홀수인 경우에는 다른 처리를 해라\n",
    "\n",
    "a = 11\n",
    "if a % 2 == 0:\n",
    "    print(a / 2)\n",
    "else:\n",
    "    print(a + 1)"
   ]
  },
  {
   "cell_type": "markdown",
   "metadata": {},
   "source": [
    "### if, elif, else\n",
    "- 조건이 여러개인 경우, 다음 조건을 elif 블록에 명시 가능\n",
    "- 이 경우, 각 조건을 확인 후, True인 족ㄴ의 코드 블락을 실행 후, 전체 if elif, else 구문을 종료\n",
    "- 조건문을 시용할 때는, if 이후, 0개 이상의 elif를 사용 가능하며 0개 또는 1개의 else를 사용 가능함\n",
    "\n",
    "```python\n",
    "a = 17\n",
    "if a % 4 == 0:\n",
    "    print('a is divisible by 4')\n",
    "elif a % 4 == 1:\n",
    "    print('a % 4 is 1')\n",
    "elif a % 4 == 2:\n",
    "    print('a % 4 is 2')\n",
    "else:\n",
    "    print('a % 4 is 3')\n",
    "```"
   ]
  },
  {
   "cell_type": "code",
   "execution_count": 8,
   "metadata": {},
   "outputs": [
    {
     "name": "stdout",
     "output_type": "stream",
     "text": [
      "a is divisible by 4\n"
     ]
    }
   ],
   "source": [
    "a = 16\n",
    "if a % 4 == 0:\n",
    "    print('a is divisible by 4')\n",
    "elif a % 4 == 1:\n",
    "    print('a % 4 is 1')\n",
    "elif a % 4 == 2:\n",
    "    print('a % 4 is 2')\n",
    "else:\n",
    "    print('a % 4 is 3')"
   ]
  },
  {
   "cell_type": "code",
   "execution_count": 7,
   "metadata": {},
   "outputs": [
    {
     "name": "stdout",
     "output_type": "stream",
     "text": [
      "a is divisible by 4\n",
      "a % 4 is 3\n"
     ]
    }
   ],
   "source": [
    "a = 16\n",
    "if a % 4 == 0:\n",
    "    print('a is divisible by 4')\n",
    "if a % 4 == 1:\n",
    "    print('a % 4 is 1')\n",
    "if a % 4 == 2:\n",
    "    print('a % 4 is 2')\n",
    "else:\n",
    "    print('a % 4 is 3')        # if와 elif or else는 한 쌍으로 생각하면 편하다"
   ]
  },
  {
   "cell_type": "markdown",
   "metadata": {},
   "source": [
    "### 중첩 조건문(nested condition)\n",
    "- 조건문의 경우 중첩하여 작성 가능\n",
    "- 중첩의 의미는 depth로 생각할 수 있으며, depth의 제한은 없음"
   ]
  },
  {
   "cell_type": "code",
   "execution_count": 10,
   "metadata": {},
   "outputs": [
    {
     "name": "stdout",
     "output_type": "stream",
     "text": [
      "a is ten and b is not 8\n"
     ]
    }
   ],
   "source": [
    "a = 10\n",
    "b = 9\n",
    "c = 8\n",
    "\n",
    "if a == 10:\n",
    "    if c == 8:\n",
    "        if b == 8:\n",
    "            print('a is ten and b is 8')\n",
    "        else:\n",
    "            print('a is ten and b is not 8')"
   ]
  }
 ],
 "metadata": {
  "kernelspec": {
   "display_name": "Python 3",
   "language": "python",
   "name": "python3"
  },
  "language_info": {
   "codemirror_mode": {
    "name": "ipython",
    "version": 3
   },
   "file_extension": ".py",
   "mimetype": "text/x-python",
   "name": "python",
   "nbconvert_exporter": "python",
   "pygments_lexer": "ipython3",
   "version": "3.8.5"
  }
 },
 "nbformat": 4,
 "nbformat_minor": 4
}
