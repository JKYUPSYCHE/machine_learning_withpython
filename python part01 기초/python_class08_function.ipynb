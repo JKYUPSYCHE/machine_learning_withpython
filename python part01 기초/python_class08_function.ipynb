{
 "cells": [
  {
   "cell_type": "markdown",
   "metadata": {},
   "source": [
    "### 함수의 정의\n",
    "- 정의 시 최초에 def 키워드 사용\n",
    "- argument 정의 (함수에 입력으로 전달하는 값을 의미, argument 또는 parameter)\n",
    "- 콜론(:)을 사용하여 코드블록 지정\n",
    "- body\n",
    "  - 함수를 호출한 코드(caller)로 함수가 해당 기능을 수행하고 완료된 output을 전달하기 위해 return 키워드 사용\n",
    "  - return 이후에 오는 값을 caller로 전달"
   ]
  },
  {
   "cell_type": "code",
   "execution_count": 11,
   "metadata": {},
   "outputs": [],
   "source": [
    "def add(x, y):\n",
    "    n = x + y\n",
    "    return n   # 반환하고자 하는 값을 return 키워드로 받는다"
   ]
  },
  {
   "cell_type": "code",
   "execution_count": 16,
   "metadata": {},
   "outputs": [
    {
     "name": "stdout",
     "output_type": "stream",
     "text": [
      "330\n"
     ]
    }
   ],
   "source": [
    "c = add(30, 300)\n",
    "print(c)"
   ]
  },
  {
   "cell_type": "markdown",
   "metadata": {},
   "source": [
    "### Default paratmeter (기본인자)\n",
    "- 함수의 파라미터에 기본값 지정 가능\n",
    "- 파라미터를 명시하지 않는 경우, 지정된 기본값을 대체\n",
    "- 기본 parameter는 일반 parameter 앞에 올 수 없다"
   ]
  },
  {
   "cell_type": "code",
   "execution_count": 19,
   "metadata": {},
   "outputs": [
    {
     "data": {
      "text/plain": [
       "35"
      ]
     },
     "execution_count": 19,
     "metadata": {},
     "output_type": "execute_result"
    }
   ],
   "source": [
    "def add(x, y, z=5):\n",
    "    a = x + y + z\n",
    "    return a\n",
    "\n",
    "add(10,20)"
   ]
  },
  {
   "cell_type": "code",
   "execution_count": 22,
   "metadata": {},
   "outputs": [
    {
     "name": "stdout",
     "output_type": "stream",
     "text": [
      "1!2!3."
     ]
    }
   ],
   "source": [
    "print(1, 2, 3, sep='!', end='.')    # shift + tab 으로 함수 parameter 확인 가능"
   ]
  },
  {
   "cell_type": "markdown",
   "metadata": {},
   "source": [
    "### return\n",
    "- 기본적으로 함수의 종료를 명시한다.\n",
    "  - return 옆에 값이나 수식이 있다면 해당 값을 호출자(caller)에게 반환\n",
    "  - return 만 존재하면 None 반환\n",
    "  - return이 없는 경우, 기본적으로 함수 코드 블록이 종료되면 종료로 간주. 이때도 None 반환"
   ]
  },
  {
   "cell_type": "code",
   "execution_count": 23,
   "metadata": {},
   "outputs": [],
   "source": [
    "def multiply(x, y):\n",
    "    if x > 10:\n",
    "        return x * y\n",
    "    \n",
    "    return (x + 2) * y"
   ]
  },
  {
   "cell_type": "code",
   "execution_count": 26,
   "metadata": {},
   "outputs": [
    {
     "name": "stdout",
     "output_type": "stream",
     "text": [
      "15\n"
     ]
    }
   ],
   "source": [
    "print(multiply(1, 5))"
   ]
  },
  {
   "cell_type": "code",
   "execution_count": 27,
   "metadata": {},
   "outputs": [
    {
     "name": "stdout",
     "output_type": "stream",
     "text": [
      "55\n"
     ]
    }
   ],
   "source": [
    "print(multiply(11, 5))"
   ]
  },
  {
   "cell_type": "code",
   "execution_count": 30,
   "metadata": {},
   "outputs": [
    {
     "name": "stdout",
     "output_type": "stream",
     "text": [
      "None\n"
     ]
    }
   ],
   "source": [
    "def multiply(x, y):\n",
    "    if x > 10:\n",
    "        return\n",
    "    \n",
    "    return (x + 2) * y\n",
    "\n",
    "c = multiply(12, 5) # if문의 조건을 만족하므로 return만 수행. 즉 None을 반환.\n",
    "print(c)"
   ]
  },
  {
   "cell_type": "code",
   "execution_count": 33,
   "metadata": {},
   "outputs": [
    {
     "name": "stdout",
     "output_type": "stream",
     "text": [
      "None\n"
     ]
    }
   ],
   "source": [
    "def multiply(x, y):\n",
    "    if x > 10:\n",
    "        return x * y\n",
    "    \n",
    "c = multiply(2, 5)   # if문의 조건을 만족하지 않아 return 값을 내지 않음. 즉 None으로 반환된다.\n",
    "print(c)"
   ]
  },
  {
   "cell_type": "markdown",
   "metadata": {},
   "source": [
    "### multiple return (복수 값 반환)\n",
    "- **tuple로 값을 반환**하여 복수개의 값을 리턴할 수 있다."
   ]
  },
  {
   "cell_type": "code",
   "execution_count": 38,
   "metadata": {},
   "outputs": [],
   "source": [
    "def add_mul(x, y):\n",
    "    s = x + y\n",
    "    m = x * y\n",
    "    return s, m"
   ]
  },
  {
   "cell_type": "code",
   "execution_count": 39,
   "metadata": {},
   "outputs": [
    {
     "name": "stdout",
     "output_type": "stream",
     "text": [
      "<class 'tuple'>\n",
      "(23, 60)\n"
     ]
    }
   ],
   "source": [
    "c = add_mul(20, 3)\n",
    "print(type(c))\n",
    "print(c)"
   ]
  },
  {
   "cell_type": "markdown",
   "metadata": {},
   "source": [
    "### variable scope (변수의 범위)\n",
    "- 변수가 **참조 가능한 코드상의 범위**를 명시\n",
    "- **함수 내의 변수는 자신이 속한 코드 블록이 종료되면 소멸**\n",
    "- 이렇게 **특정 코드 블록에서 선언된 변수를 지역변수(local variable)** 이라고 함\n",
    "- 반대로 가장 상단에서 정의되어 **프로그램 종료 전까지 유지되는 변수를 전역변수(global variable)**\n",
    "- 같은 이름의 지역변수와 전역변수가 존재할 경우, **지역변수의 우선순위가 더 높음**"
   ]
  },
  {
   "cell_type": "code",
   "execution_count": 41,
   "metadata": {},
   "outputs": [],
   "source": [
    "num1 = 10\n",
    "num2 = 30\n",
    "\n",
    "def test(num1, num2):\n",
    "    print(num1, num2)\n",
    "    return num1 + num2"
   ]
  },
  {
   "cell_type": "code",
   "execution_count": 42,
   "metadata": {},
   "outputs": [
    {
     "name": "stdout",
     "output_type": "stream",
     "text": [
      "30 40\n",
      "10 30\n"
     ]
    }
   ],
   "source": [
    "test(30, 40)\n",
    "print(num1, num2)"
   ]
  },
  {
   "cell_type": "markdown",
   "metadata": {},
   "source": [
    "### variable length argument (가변길이 인자)\n",
    "- 전달되는 파라미터의 개수가 고정적이지 않은 경우 사용\n",
    "- e.g)\n",
    "  - print\n",
    "  - format\n",
    "  \n",
    "  > *args, **kwargs\n",
    "  \n",
    " > *args : 파라미터를 튜플의 형태로 전달\n",
    "  \n",
    " > **kwargs : 파라미터를 딕셔너리 형태로 전달(네임드 파라미터)"
   ]
  },
  {
   "cell_type": "code",
   "execution_count": 50,
   "metadata": {},
   "outputs": [],
   "source": [
    "def test(*args):   # arguments\n",
    "    for item in args:\n",
    "        print(item)"
   ]
  },
  {
   "cell_type": "code",
   "execution_count": 48,
   "metadata": {},
   "outputs": [
    {
     "name": "stdout",
     "output_type": "stream",
     "text": [
      "10\n"
     ]
    }
   ],
   "source": [
    "test(10)"
   ]
  },
  {
   "cell_type": "code",
   "execution_count": 49,
   "metadata": {},
   "outputs": [
    {
     "name": "stdout",
     "output_type": "stream",
     "text": [
      "10\n",
      "20\n",
      "30\n"
     ]
    }
   ],
   "source": [
    "test(10, 20, '30')"
   ]
  },
  {
   "cell_type": "markdown",
   "metadata": {},
   "source": [
    "### keyword parameter (키워드 파라미터)"
   ]
  },
  {
   "cell_type": "code",
   "execution_count": 56,
   "metadata": {},
   "outputs": [
    {
     "name": "stdout",
     "output_type": "stream",
     "text": [
      "key:  a , value:  1\n",
      "key:  b , value:  2\n",
      "key:  c , value:  3\n",
      "key:  name , value:  Kate\n"
     ]
    }
   ],
   "source": [
    "def test2(**kwargs):    # keyword arguments\n",
    "    for key, value in kwargs.items():\n",
    "        print('key: ', key, ',', 'value: ', value)\n",
    "\n",
    "test2(a = 1, b = 2, c = 3, name = 'Kate')"
   ]
  },
  {
   "cell_type": "markdown",
   "metadata": {},
   "source": [
    "### format 함수"
   ]
  },
  {
   "cell_type": "code",
   "execution_count": 60,
   "metadata": {},
   "outputs": [
    {
     "name": "stdout",
     "output_type": "stream",
     "text": [
      "오늘 온도 : 20도, 강수확률은 : 50%\n"
     ]
    }
   ],
   "source": [
    "a = '오늘 온도 : {today_temp}도, 강수확률은 : {today_prob}%'.format(today_temp = 20, today_prob = 50)    # {}는 place holder\n",
    "print(a)"
   ]
  },
  {
   "cell_type": "code",
   "execution_count": null,
   "metadata": {},
   "outputs": [],
   "source": []
  }
 ],
 "metadata": {
  "kernelspec": {
   "display_name": "Python 3",
   "language": "python",
   "name": "python3"
  },
  "language_info": {
   "codemirror_mode": {
    "name": "ipython",
    "version": 3
   },
   "file_extension": ".py",
   "mimetype": "text/x-python",
   "name": "python",
   "nbconvert_exporter": "python",
   "pygments_lexer": "ipython3",
   "version": "3.8.5"
  }
 },
 "nbformat": 4,
 "nbformat_minor": 4
}
