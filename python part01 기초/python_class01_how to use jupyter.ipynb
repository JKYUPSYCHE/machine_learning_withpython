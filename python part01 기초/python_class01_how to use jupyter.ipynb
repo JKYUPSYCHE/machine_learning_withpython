{
 "cells": [
  {
   "cell_type": "markdown",
   "metadata": {},
   "source": [
    "### hello python\n",
    "# hello python\n",
    "####  markdown cell 은 코드의 제목을 표현하는 데에 사용한다."
   ]
  },
  {
   "cell_type": "markdown",
   "metadata": {},
   "source": [
    "**python** is really *cool*\n",
    "- python\n",
    " - panda\n",
    "   - depth1\n",
    "   - depth2\n",
    " - numpy\n",
    "1. java\n",
    "2. c++\n",
    "3. golang\n",
    "\n",
    "> 나는 생각한다. 고로 존재한다.\n",
    "\n",
    "$y = 3x$\n",
    "\n",
    "[네이버 홈페이지](https://www.naver.com/)\n",
    "\n",
    "```python\n",
    "a = 10\n",
    "print(a)\n",
    "```"
   ]
  },
  {
   "cell_type": "code",
   "execution_count": null,
   "metadata": {},
   "outputs": [],
   "source": []
  },
  {
   "cell_type": "code",
   "execution_count": 23,
   "metadata": {},
   "outputs": [
    {
     "name": "stdout",
     "output_type": "stream",
     "text": [
      "10\n"
     ]
    }
   ],
   "source": [
    "a = 10\n",
    "\n",
    "print(a)"
   ]
  },
  {
   "cell_type": "code",
   "execution_count": null,
   "metadata": {},
   "outputs": [],
   "source": []
  }
 ],
 "metadata": {
  "kernelspec": {
   "display_name": "Python 3",
   "language": "python",
   "name": "python3"
  },
  "language_info": {
   "codemirror_mode": {
    "name": "ipython",
    "version": 3
   },
   "file_extension": ".py",
   "mimetype": "text/x-python",
   "name": "python",
   "nbconvert_exporter": "python",
   "pygments_lexer": "ipython3",
   "version": "3.8.5"
  }
 },
 "nbformat": 4,
 "nbformat_minor": 5
}
