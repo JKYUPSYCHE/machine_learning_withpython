{
 "cells": [
  {
   "cell_type": "markdown",
   "metadata": {},
   "source": [
    "### dictionary\n",
    " - 가장 많이 사용하게 될 구조\n",
    " - 키와 값을 갖는 데이터 구조\n",
    " - 키는 내부적으로 hash값으로 저장   **- 동일한 키가 중복으로 2개 존재할 수 없다.**\n",
    " - 순서를 따지지 않음. 즉, 인덱스가 없다."
   ]
  },
  {
   "cell_type": "code",
   "execution_count": 2,
   "metadata": {},
   "outputs": [
    {
     "name": "stdout",
     "output_type": "stream",
     "text": [
      "0\n",
      "4\n"
     ]
    }
   ],
   "source": [
    "a = [0, 1, 2, 3, 4]\n",
    "print(a[0])\n",
    "print(a[4])\n",
    "\n",
    "# 리스트의 경우 인덱스를 알고 있다면 리스트가 아무리 길어도 리스트에 접근이 간단하다."
   ]
  },
  {
   "cell_type": "markdown",
   "metadata": {},
   "source": [
    "dictionary의 초기화"
   ]
  },
  {
   "cell_type": "code",
   "execution_count": 10,
   "metadata": {},
   "outputs": [
    {
     "name": "stdout",
     "output_type": "stream",
     "text": [
      "{'Korea': 'Seoul', 'Canada': 'Ottawa', 'USA': 'Washington D.c'}\n",
      "<class 'dict'>\n",
      "Seoul\n",
      "1\n",
      "{'Korea': 'Seoul', 'Canada': 'Ottawa', 'USA': 'Washington D.c', 'Japan': 'Tokyo'}\n"
     ]
    }
   ],
   "source": [
    "a = {'Korea': 'Seoul',\n",
    "     'Canada': 'Ottawa',\n",
    "     'USA': 'Washington D.c'}     # dictionary에 순서는 존재하지 않는다.\n",
    "\n",
    "print(a)\n",
    "\n",
    "b = {0:1, 1:6, 7:9, 8:10}\n",
    "\n",
    "print(type(b))\n",
    "\n",
    "print(a['Korea'])   # key에 해당하는 value를 가져온다. \n",
    "print(b[0])         # list의 인덱스 개념과는 다르다.\n",
    "\n",
    "a['Japan'] = 'Tokyo' # dictionary 값 추가하는 방법\n",
    "print(a)"
   ]
  },
  {
   "cell_type": "markdown",
   "metadata": {},
   "source": [
    "- update(  )\n",
    "  - 두 딕셔너리를 병합함\n",
    "  - 겹치는 키가 있다면 parameter로 전달되는 키 값이 overwrite 된다."
   ]
  },
  {
   "cell_type": "code",
   "execution_count": 11,
   "metadata": {},
   "outputs": [
    {
     "name": "stdout",
     "output_type": "stream",
     "text": [
      "{'a': 2, 'b': 2, 'c': 3, 'd': 4, 'e': 5}\n"
     ]
    }
   ],
   "source": [
    "a = {'a' : 1, 'b' : 2, 'c' : 3}\n",
    "b = {'a' : 2, 'd' : 4, 'e' : 5}\n",
    "a.update(b)\n",
    "print(a)"
   ]
  },
  {
   "cell_type": "markdown",
   "metadata": {},
   "source": [
    "- key 삭제\n",
    "  - del 키워드 사용\n",
    "  - pop 함수 이용"
   ]
  },
  {
   "cell_type": "code",
   "execution_count": 29,
   "metadata": {},
   "outputs": [
    {
     "name": "stdout",
     "output_type": "stream",
     "text": [
      "{'a': 1, 'b': 2, 'c': 3}\n",
      "{'a': 1, 'c': 3}\n"
     ]
    }
   ],
   "source": [
    "a = {'a' : 1, 'b' : 2, 'c' : 3}\n",
    "print(a)\n",
    "\n",
    "# a.pop('b')\n",
    "\n",
    "del a['b']\n",
    "print(a)"
   ]
  },
  {
   "cell_type": "code",
   "execution_count": 30,
   "metadata": {},
   "outputs": [],
   "source": [
    "c = 100"
   ]
  },
  {
   "cell_type": "code",
   "execution_count": 31,
   "metadata": {},
   "outputs": [
    {
     "name": "stdout",
     "output_type": "stream",
     "text": [
      "100\n"
     ]
    }
   ],
   "source": [
    "print(c)\n",
    "del c"
   ]
  },
  {
   "cell_type": "code",
   "execution_count": 32,
   "metadata": {},
   "outputs": [
    {
     "name": "stdout",
     "output_type": "stream",
     "text": [
      "{'a': 1, 'c': 3}\n",
      "{}\n"
     ]
    }
   ],
   "source": [
    "print(a)\n",
    "a.clear()\n",
    "print(a)"
   ]
  },
  {
   "cell_type": "markdown",
   "metadata": {},
   "source": [
    "- in\n",
    "  - key값 존재 확인\n",
    "  - O(1)연산 - 딕셔너리의 크기와 관계없이 항상 연산의 속도가 일정하다."
   ]
  },
  {
   "cell_type": "code",
   "execution_count": 37,
   "metadata": {},
   "outputs": [
    {
     "name": "stdout",
     "output_type": "stream",
     "text": [
      "{'a': 1, 'b': 2, 'c': 3}\n",
      "True\n",
      "True\n"
     ]
    }
   ],
   "source": [
    "a = {'a' : 1, 'b' : 2, 'c' : 3}\n",
    "print(a)\n",
    "b = [1, 2, 3, 4, 5, 6, 7, 9, 10, 100]\n",
    "\n",
    "print(100 in b)     # 리스트의 요소 개수가 많을수록 성능이 떨어진다.\n",
    "print('b' in a)     # 딕셔너리에 in 키워드를 사용하면 성능이 좋다."
   ]
  },
  {
   "cell_type": "markdown",
   "metadata": {},
   "source": [
    "- value access\n",
    "  - dic[key]로 접근, 키가 없는 경우 Error\n",
    "  - .get(  ) 함수로 접근, 키가 없는 경우 None 반환"
   ]
  },
  {
   "cell_type": "code",
   "execution_count": 39,
   "metadata": {},
   "outputs": [
    {
     "name": "stdout",
     "output_type": "stream",
     "text": [
      "None\n"
     ]
    }
   ],
   "source": [
    "print(a.get('d'))  # Error가 나지 않아 방어적인 프로그래밍이 가능"
   ]
  },
  {
   "cell_type": "markdown",
   "metadata": {},
   "source": [
    "#### 모든 keys, values 접근\n",
    " - keys(  )  - 키만 반환\n",
    " - values(  ) - 값만 반환\n",
    " - items(  ) - 키, 값의 튜플을 반환"
   ]
  },
  {
   "cell_type": "code",
   "execution_count": 45,
   "metadata": {},
   "outputs": [
    {
     "name": "stdout",
     "output_type": "stream",
     "text": [
      "{'a': 1, 'b': 2, 'c': 3}\n",
      "['a', 'b', 'c']\n",
      "[1, 2, 3]\n",
      "[('a', 1), ('b', 2), ('c', 3)]\n"
     ]
    }
   ],
   "source": [
    "print(a)\n",
    "print(list(a.keys()))     # 리스트로 변환하여 출력하는 코드\n",
    "print(list(a.values()))\n",
    "\n",
    "print(list(a.items()))"
   ]
  },
  {
   "cell_type": "markdown",
   "metadata": {},
   "source": [
    "### set\n",
    "- dictionary에서 key만 활용하는 데이터 구조로 이해\n",
    "- 수학에서의 집합과 동일한 개념 (중복X, 순서X)"
   ]
  },
  {
   "cell_type": "code",
   "execution_count": 48,
   "metadata": {},
   "outputs": [
    {
     "name": "stdout",
     "output_type": "stream",
     "text": [
      "{1, 2, 3, 4, 5, 6}\n"
     ]
    }
   ],
   "source": [
    "a = {1, 1, 2, 4, 3, 5, 6}   # 인덱스가 없고 중복을 허용하지 않음\n",
    "print(a)"
   ]
  },
  {
   "cell_type": "code",
   "execution_count": 50,
   "metadata": {},
   "outputs": [
    {
     "name": "stdout",
     "output_type": "stream",
     "text": [
      "<class 'dict'>\n",
      "<class 'set'>\n"
     ]
    }
   ],
   "source": [
    "a = {}\n",
    "print(type(a))\n",
    "\n",
    "b = set()\n",
    "print(type(b))"
   ]
  },
  {
   "cell_type": "code",
   "execution_count": 51,
   "metadata": {},
   "outputs": [
    {
     "name": "stdout",
     "output_type": "stream",
     "text": [
      "[1, 1, 2, 4, 3, 5, 6]\n",
      "<class 'list'>\n",
      "{1, 2, 3, 4, 5, 6}\n",
      "<class 'set'>\n"
     ]
    }
   ],
   "source": [
    "a = [1, 1, 2, 4, 3, 5, 6]\n",
    "b = set(a)\n",
    "print(a)\n",
    "print(type(a))\n",
    "print(b)\n",
    "print(type(b))"
   ]
  },
  {
   "cell_type": "markdown",
   "metadata": {},
   "source": [
    "- set operations\n",
    "  - 수학 연산과 동일\n",
    "  - 교집합, 합집합, 차집합 등 지원"
   ]
  },
  {
   "cell_type": "code",
   "execution_count": 54,
   "metadata": {},
   "outputs": [
    {
     "name": "stdout",
     "output_type": "stream",
     "text": [
      "{1, 2, 3}\n",
      "{2, 3, 4}\n",
      "{1, 2, 3, 4}\n",
      "{2, 3}\n",
      "{1}\n",
      "False\n"
     ]
    }
   ],
   "source": [
    "a = {1, 2, 3}\n",
    "b = {2, 3, 4}\n",
    "\n",
    "print(a)\n",
    "print(b)\n",
    "\n",
    "print(a.union(b))        # 합집합\n",
    "print(a.intersection(b)) # 교집합\n",
    "print(a.difference(b))   # 차집합\n",
    "print(a.issubset(b))     # 부분 집합 여부 (T or F)"
   ]
  }
 ],
 "metadata": {
  "kernelspec": {
   "display_name": "Python 3",
   "language": "python",
   "name": "python3"
  },
  "language_info": {
   "codemirror_mode": {
    "name": "ipython",
    "version": 3
   },
   "file_extension": ".py",
   "mimetype": "text/x-python",
   "name": "python",
   "nbconvert_exporter": "python",
   "pygments_lexer": "ipython3",
   "version": "3.8.5"
  }
 },
 "nbformat": 4,
 "nbformat_minor": 4
}
