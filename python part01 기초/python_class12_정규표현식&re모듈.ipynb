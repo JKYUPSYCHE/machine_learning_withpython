{
 "cells": [
  {
   "cell_type": "markdown",
   "metadata": {},
   "source": [
    "### 정규표현식\n",
    "- regular expression\n",
    "- 특정한 패턴과 일치하는 문자열을 '검색', '치환', '제거' 하는 기능을 지원\n",
    "- 정규표현식의 도움 없이 패턴을 찾는 작업은 불완전하거나 작업의 cost가 높음\n",
    "- 이메일 형식 판별, 전화번호 형식 판별, 숫자로만 이루어진 문자열 등"
   ]
  },
  {
   "cell_type": "markdown",
   "metadata": {},
   "source": [
    "#### raw string\n",
    "- 문자열 앞에 r이 붙으면 해당 문자열이 구성된 그대로 문자열로 변환"
   ]
  },
  {
   "cell_type": "code",
   "execution_count": 1,
   "metadata": {},
   "outputs": [
    {
     "name": "stdout",
     "output_type": "stream",
     "text": [
      "abcdef\n",
      "\n",
      "abcdef\\n\n"
     ]
    }
   ],
   "source": [
    "a = 'abcdef\\n'\n",
    "print(a)\n",
    "\n",
    "b = r'abcdef\\n'\n",
    "print(b)"
   ]
  },
  {
   "cell_type": "markdown",
   "metadata": {},
   "source": [
    "### 기본 패턴\n",
    "- a, X, 9 등 문자 하나하나의 character들은 정확히 해당 문자와 일치\n",
    "  - 패턴 test는 test 문자열과 일치\n",
    "  - 대소문자의 경우 기본적으로 구별하나, 구별하지 않도록 설정 가능\n",
    "- 몇몇 문자들에 대해서는 예회가 존재하는데, 이들을 특별한 의미로 사용 됨\n",
    "  -  '^' '$' '*' '+' '?' '{}' '\\' '|' '()'\n",
    "- '\\w' - 문자 character와 일치\n",
    "- '\\s' - 공백문자와 일치\n",
    "- '\\t, \\n, \\r' - tab, newline, return\n",
    "- '\\d' - 숫자 character와 일치\n",
    "- '^' : 시작, $ : 끝. 각각 문자열의 시작과 끝을 의미\n",
    "- \\가 붙으면 스페셜한 의미가 없어짐.\n",
    "- 자세한 내용 : https://docs.python.org/3/library/re.html\n"
   ]
  },
  {
   "cell_type": "markdown",
   "metadata": {},
   "source": [
    "### search method\n",
    "- 첫번쨰로 패턴을 찾으면 match 객체를 반환\n",
    "- 패턴을 찾지 못하면 None을 반환"
   ]
  },
  {
   "cell_type": "code",
   "execution_count": 90,
   "metadata": {},
   "outputs": [],
   "source": [
    "import re  # search 함수를 사용하게 위해 re 패키지를 import"
   ]
  },
  {
   "cell_type": "code",
   "execution_count": 11,
   "metadata": {},
   "outputs": [
    {
     "name": "stdout",
     "output_type": "stream",
     "text": [
      "<class 're.Match'>\n",
      "3\n",
      "6\n",
      "abc\n",
      "<class 'NoneType'>\n"
     ]
    }
   ],
   "source": [
    "m = re.search(r'abc', '123abcdef')\n",
    "print(type(m))\n",
    "\n",
    "print(m.start())\n",
    "print(m.end())\n",
    "print(m.group())\n",
    "\n",
    "m2 = re.search(r'abc', '123abdef')\n",
    "print(type(m2))"
   ]
  },
  {
   "cell_type": "code",
   "execution_count": 16,
   "metadata": {},
   "outputs": [
    {
     "name": "stdout",
     "output_type": "stream",
     "text": [
      "<re.Match object; span=(0, 3), match='112'>\n",
      "<re.Match object; span=(0, 4), match='112a'>\n"
     ]
    }
   ],
   "source": [
    "m = re.search(r'\\d\\d\\d', '112abcdef119')  # 연속된 숫자(\\d 만큼)가 있는지 (가장 첫번쨰를 반환)\n",
    "m2 = re.search(r'\\d\\d\\d\\w', '112abcdef119') \n",
    "print(m)\n",
    "print(m2)"
   ]
  },
  {
   "cell_type": "code",
   "execution_count": 21,
   "metadata": {},
   "outputs": [
    {
     "name": "stdout",
     "output_type": "stream",
     "text": [
      "<re.Match object; span=(3, 7), match='$%as'>\n"
     ]
    }
   ],
   "source": [
    "m = re.search(r'..\\w\\w', '!@#$%asdqwAB')  # . (마침표)는 어떤 형태의 문자열이든 노상관\n",
    "print(m)"
   ]
  },
  {
   "cell_type": "markdown",
   "metadata": {},
   "source": [
    "### [ ] - 문자들의 범위를 나타내기 위해 사용\n",
    "- [] 내부의 메타 캐릭터는 캐릭터 자체를 나타냄\n",
    "- [abck] : a or b or c or k\n",
    "- [a-d] : 해당 문자 사이의 범위에 속하는 문자 중 하나\n",
    "- [0-9] : 모든 숫자\n",
    "- [a-z] : 모든 소문자\n",
    "- [A-Z] : 모든 대문자\n",
    "- [a-zA-Z0-9] : 모든 알파멧 문자 및 숫자\n",
    "- [^0-9] : ^가 맨 앞에 사용 되는 경우 해당 문자 패턴이 아닌 것과 매칭"
   ]
  },
  {
   "cell_type": "code",
   "execution_count": 25,
   "metadata": {},
   "outputs": [
    {
     "data": {
      "text/plain": [
       "<re.Match object; span=(0, 3), match='cat'>"
      ]
     },
     "execution_count": 25,
     "metadata": {},
     "output_type": "execute_result"
    }
   ],
   "source": [
    "re.search(r'[cbm]at', 'cat') # c b m 중 하나만 가져도 saerch 가능"
   ]
  },
  {
   "cell_type": "code",
   "execution_count": 26,
   "metadata": {},
   "outputs": [
    {
     "data": {
      "text/plain": [
       "<re.Match object; span=(0, 5), match='1haha'>"
      ]
     },
     "execution_count": 26,
     "metadata": {},
     "output_type": "execute_result"
    }
   ],
   "source": [
    "re.search(r'[0-9]haha', '1haha')  # 숫자 뒤에 haha가 나오는가"
   ]
  },
  {
   "cell_type": "code",
   "execution_count": 27,
   "metadata": {},
   "outputs": [
    {
     "data": {
      "text/plain": [
       "<re.Match object; span=(0, 5), match='^aron'>"
      ]
     },
     "execution_count": 27,
     "metadata": {},
     "output_type": "execute_result"
    }
   ],
   "source": [
    "re.search(r'[abc.^]aron', '^aron')"
   ]
  },
  {
   "cell_type": "code",
   "execution_count": 29,
   "metadata": {},
   "outputs": [
    {
     "data": {
      "text/plain": [
       "<re.Match object; span=(0, 5), match='#aron'>"
      ]
     },
     "execution_count": 29,
     "metadata": {},
     "output_type": "execute_result"
    }
   ],
   "source": [
    "re.search(r'[^abc]aron', '#aron')  # ^이 앞에 오면 ^ 뒤의 문자를 제외하고 찾음"
   ]
  },
  {
   "cell_type": "markdown",
   "metadata": {},
   "source": [
    "### 1. 다른 문자와 함께 사용되어 특수한 의미를 지님\n",
    "- \\d : 숫자 - [0-9]와 동일\n",
    "- \\D : 숫자가 아닌 문자 [^0-9]와 동일\n",
    "- \\s : 공백 문자(띄어쓰기, 탭, 엔터 등)\n",
    "- \\S : 공백이 아닌 문자\n",
    "- \\w : 알파벳 대소문자, 숫자 [0-9a-zA-Z]와 동일\n",
    "- \\W : non-alpha-numeric 문지 [^0-9a-zA-Z]와 동일\n",
    "\n",
    "### 2. 메타캐릭터가 캐릭터 자체를 표현하도록 할 경우\n",
    "- \\\\. , \\\\"
   ]
  },
  {
   "cell_type": "code",
   "execution_count": 31,
   "metadata": {},
   "outputs": [
    {
     "data": {
      "text/plain": [
       "<re.Match object; span=(5, 9), match=' and'>"
      ]
     },
     "execution_count": 31,
     "metadata": {},
     "output_type": "execute_result"
    }
   ],
   "source": [
    "re.search('\\sand', 'apple and banana')  # 공백과 and가 있다면 search"
   ]
  },
  {
   "cell_type": "code",
   "execution_count": 33,
   "metadata": {},
   "outputs": [
    {
     "data": {
      "text/plain": [
       "<re.Match object; span=(6, 10), match='land'>"
      ]
     },
     "execution_count": 33,
     "metadata": {},
     "output_type": "execute_result"
    }
   ],
   "source": [
    "re.search('\\Sand', 'apple land banana') # 공백이 아닌 후에 and가 있다면 search"
   ]
  },
  {
   "cell_type": "code",
   "execution_count": 36,
   "metadata": {},
   "outputs": [
    {
     "data": {
      "text/plain": [
       "<re.Match object; span=(0, 4), match='.and'>"
      ]
     },
     "execution_count": 36,
     "metadata": {},
     "output_type": "execute_result"
    }
   ],
   "source": [
    "re.search(r'\\.and', '.and')  # 모든 문자를 의미하는 . 이 아니라 . 그 자체의 캐릭터를 의미하게 함"
   ]
  },
  {
   "cell_type": "markdown",
   "metadata": {},
   "source": [
    "### 반복패턴\n",
    "- 패턴 뒤에 위치하는 *, +, ?는 해당 패턴이 반복적으로 존재하는지 검사\n",
    "  - '+' : 1번 이상의 패턴이 발생하는가\n",
    "  - '*' : 0번 이상의 패턴이 발생하는가\n",
    "  - '?' : 0혹은 1번의 패턴이 발생하는가\n",
    "- **반복패턴의 경우 greedy하게 검색** 한다, 즉 **가능한 많은 부분이 매칭되도록 한다.**\n",
    "  - a[bcd]*b 패턴을 abcbdccb에서 검색하는 경우\n",
    "  - ab, abcb, abcbdccb 전부 가능하지만 **최대한 많은 부분이 매칭된 abcbdccb가 검색**된다"
   ]
  },
  {
   "cell_type": "code",
   "execution_count": 39,
   "metadata": {},
   "outputs": [
    {
     "data": {
      "text/plain": [
       "<re.Match object; span=(0, 8), match='abcdbccb'>"
      ]
     },
     "execution_count": 39,
     "metadata": {},
     "output_type": "execute_result"
    }
   ],
   "source": [
    "re.search(r'a[bcd]*b', 'abcdbccb')  # a로 시작해서 b or c or d가 0번 이상 반복되어 b로 끝나는지 검색"
   ]
  },
  {
   "cell_type": "code",
   "execution_count": 41,
   "metadata": {},
   "outputs": [
    {
     "data": {
      "text/plain": [
       "<re.Match object; span=(0, 6), match='banana'>"
      ]
     },
     "execution_count": 41,
     "metadata": {},
     "output_type": "execute_result"
    }
   ],
   "source": [
    "re.search(r'b\\w+a', 'banana') # b로 시작하여 숫자나 영문자가 1번이상 반복되어 a로 끝나는 경우"
   ]
  },
  {
   "cell_type": "code",
   "execution_count": 43,
   "metadata": {},
   "outputs": [
    {
     "data": {
      "text/plain": [
       "<re.Match object; span=(1, 3), match='ii'>"
      ]
     },
     "execution_count": 43,
     "metadata": {},
     "output_type": "execute_result"
    }
   ],
   "source": [
    "re.search(r'i+', 'piigiii')  # search 메소드는 가장 먼저 찾은 패턴을 반환한다."
   ]
  },
  {
   "cell_type": "code",
   "execution_count": 44,
   "metadata": {},
   "outputs": [
    {
     "data": {
      "text/plain": [
       "<re.Match object; span=(0, 4), match='piig'>"
      ]
     },
     "execution_count": 44,
     "metadata": {},
     "output_type": "execute_result"
    }
   ],
   "source": [
    "re.search(r'pi+g', 'piig')"
   ]
  },
  {
   "cell_type": "code",
   "execution_count": 45,
   "metadata": {},
   "outputs": [
    {
     "data": {
      "text/plain": [
       "<re.Match object; span=(0, 4), match='piig'>"
      ]
     },
     "execution_count": 45,
     "metadata": {},
     "output_type": "execute_result"
    }
   ],
   "source": [
    "re.search(r'pi*g', 'piig')"
   ]
  },
  {
   "cell_type": "code",
   "execution_count": 48,
   "metadata": {},
   "outputs": [],
   "source": [
    "re.search(r'pi+g', 'pg')  # + 는 1번 이상의 경우만 검색"
   ]
  },
  {
   "cell_type": "code",
   "execution_count": 49,
   "metadata": {},
   "outputs": [
    {
     "data": {
      "text/plain": [
       "<re.Match object; span=(0, 2), match='pg'>"
      ]
     },
     "execution_count": 49,
     "metadata": {},
     "output_type": "execute_result"
    }
   ],
   "source": [
    "re.search(r'pi*g', 'pg')"
   ]
  },
  {
   "cell_type": "code",
   "execution_count": 53,
   "metadata": {},
   "outputs": [
    {
     "data": {
      "text/plain": [
       "<re.Match object; span=(0, 4), match='http'>"
      ]
     },
     "execution_count": 53,
     "metadata": {},
     "output_type": "execute_result"
    }
   ],
   "source": [
    "re.search(r'https?', 'http://naver.com')  # ? 앞의 패턴이 있거나 없거나 검색 이 문장의 경우 s"
   ]
  },
  {
   "cell_type": "markdown",
   "metadata": {},
   "source": [
    "### ^*, *$\n",
    "- ^ 문자열의 맨 앞부터 일치하는 경우 검색\n",
    "\n",
    "- '$' 문자열의 맨 뒤부터 일치하는 경우 검색"
   ]
  },
  {
   "cell_type": "code",
   "execution_count": 57,
   "metadata": {},
   "outputs": [
    {
     "data": {
      "text/plain": [
       "<re.Match object; span=(2, 7), match='bbana'>"
      ]
     },
     "execution_count": 57,
     "metadata": {},
     "output_type": "execute_result"
    }
   ],
   "source": [
    "re.search(r'b\\w+a', 'cabana')"
   ]
  },
  {
   "cell_type": "code",
   "execution_count": 63,
   "metadata": {},
   "outputs": [],
   "source": [
    "re.search(r'^b\\w+a', 'cabana')  # 문자열의 맨 앞부터 b가 있어야 검색"
   ]
  },
  {
   "cell_type": "code",
   "execution_count": 64,
   "metadata": {},
   "outputs": [
    {
     "data": {
      "text/plain": [
       "<re.Match object; span=(0, 6), match='babana'>"
      ]
     },
     "execution_count": 64,
     "metadata": {},
     "output_type": "execute_result"
    }
   ],
   "source": [
    "re.search(r'^b\\w+a', 'babana')"
   ]
  },
  {
   "cell_type": "code",
   "execution_count": 65,
   "metadata": {},
   "outputs": [
    {
     "data": {
      "text/plain": [
       "<re.Match object; span=(2, 6), match='bana'>"
      ]
     },
     "execution_count": 65,
     "metadata": {},
     "output_type": "execute_result"
    }
   ],
   "source": [
    "re.search(r'b\\w+a', 'cabanap')"
   ]
  },
  {
   "cell_type": "code",
   "execution_count": 68,
   "metadata": {},
   "outputs": [],
   "source": [
    "re.search(r'b\\w+a$', 'cabanap')  # 문자열의 맨 뒤에 a가 있어야 검색"
   ]
  },
  {
   "cell_type": "code",
   "execution_count": 69,
   "metadata": {},
   "outputs": [
    {
     "data": {
      "text/plain": [
       "<re.Match object; span=(2, 6), match='bana'>"
      ]
     },
     "execution_count": 69,
     "metadata": {},
     "output_type": "execute_result"
    }
   ],
   "source": [
    "re.search(r'b\\w+a$', 'cabana')"
   ]
  },
  {
   "cell_type": "markdown",
   "metadata": {},
   "source": [
    "### grouping\n",
    "- ()을 사용하여 그루핑\n",
    "- 매칭 결과를 각 그룹별로 분리 가능\n",
    "- 패턴을 명시할 때, 각 그룹을 괄호()안에 넣어 분리하여 사용"
   ]
  },
  {
   "cell_type": "code",
   "execution_count": 72,
   "metadata": {},
   "outputs": [
    {
     "name": "stdout",
     "output_type": "stream",
     "text": [
      "<re.Match object; span=(0, 14), match='test@gmail.com'>\n"
     ]
    },
    {
     "data": {
      "text/plain": [
       "'test@gmail.com'"
      ]
     },
     "execution_count": 72,
     "metadata": {},
     "output_type": "execute_result"
    }
   ],
   "source": [
    "m = re.search(r'\\w+@.+', 'test@gmail.com')\n",
    "print(m)\n",
    "m.group()"
   ]
  },
  {
   "cell_type": "code",
   "execution_count": 75,
   "metadata": {},
   "outputs": [
    {
     "name": "stdout",
     "output_type": "stream",
     "text": [
      "test\n",
      "gmail.com\n",
      "test@gmail.com\n"
     ]
    }
   ],
   "source": [
    "m = re.search(r'(\\w+)@(.+)', 'test@gmail.com')\n",
    "print(m.group(1))\n",
    "print(m.group(2))\n",
    "print(m.group(0))  # 기본값으로 그루핑이 없을때, 즉 전체 패턴을 가져옴"
   ]
  },
  {
   "cell_type": "markdown",
   "metadata": {},
   "source": [
    "### { } - 반복패턴 횟수 정하기\n",
    "- 반복패턴을 사용하여 찾는것이 가능하지만, 반복의 횟수 제한을 불가능하다.\n",
    "- 패턴 뒤에 위치하는 중괄호{}에 숫자를 명시하면 해당 숫자 만큼의 반복인 경우에만 매칭\n",
    "- {4} - 4번 반복\n",
    "- {3, 4} - 3 ~ 4 번 반복"
   ]
  },
  {
   "cell_type": "code",
   "execution_count": 77,
   "metadata": {},
   "outputs": [],
   "source": [
    "re.search('pi{3}g','piiiig')"
   ]
  },
  {
   "cell_type": "code",
   "execution_count": 78,
   "metadata": {},
   "outputs": [
    {
     "data": {
      "text/plain": [
       "<re.Match object; span=(0, 6), match='piiiig'>"
      ]
     },
     "execution_count": 78,
     "metadata": {},
     "output_type": "execute_result"
    }
   ],
   "source": [
    "re.search('pi{4}g','piiiig')"
   ]
  },
  {
   "cell_type": "code",
   "execution_count": 80,
   "metadata": {},
   "outputs": [
    {
     "data": {
      "text/plain": [
       "<re.Match object; span=(0, 6), match='piiiig'>"
      ]
     },
     "execution_count": 80,
     "metadata": {},
     "output_type": "execute_result"
    }
   ],
   "source": [
    "re.search('pi{3,5}g','piiiig')"
   ]
  },
  {
   "cell_type": "markdown",
   "metadata": {},
   "source": [
    "### 미니멈 매칭(non-greedy way)\n",
    "- *?, +?를 이용하여 기능을 구현"
   ]
  },
  {
   "cell_type": "code",
   "execution_count": 83,
   "metadata": {},
   "outputs": [
    {
     "data": {
      "text/plain": [
       "<re.Match object; span=(0, 17), match='<html>haha<\\\\html>'>"
      ]
     },
     "execution_count": 83,
     "metadata": {},
     "output_type": "execute_result"
    }
   ],
   "source": [
    "re.search(r'<.+>', '<html>haha<\\html>')  # greedy 하게 동작해서 찾고자 하는 범위 밖까지 검색함"
   ]
  },
  {
   "cell_type": "code",
   "execution_count": 85,
   "metadata": {},
   "outputs": [
    {
     "data": {
      "text/plain": [
       "<re.Match object; span=(0, 6), match='<html>'>"
      ]
     },
     "execution_count": 85,
     "metadata": {},
     "output_type": "execute_result"
    }
   ],
   "source": [
    "re.search(r'<.+?>', '<html>haha<\\html>') # 최소한으로 반복패턴을 찾는다"
   ]
  },
  {
   "cell_type": "markdown",
   "metadata": {},
   "source": [
    "### { }?\n",
    "- {m,n}의 경우 m번에서 n번 반복하나 greedy하게 동작한다\n",
    "- {m,n}?으로 non-greedy하게 동작하게 제어한다."
   ]
  },
  {
   "cell_type": "code",
   "execution_count": 87,
   "metadata": {},
   "outputs": [
    {
     "data": {
      "text/plain": [
       "<re.Match object; span=(0, 5), match='aaaaa'>"
      ]
     },
     "execution_count": 87,
     "metadata": {},
     "output_type": "execute_result"
    }
   ],
   "source": [
    "re.search(r'a{3,5}', 'aaaaa')    # greedy하게 동작하여 최대의 경우로 검색"
   ]
  },
  {
   "cell_type": "code",
   "execution_count": 89,
   "metadata": {},
   "outputs": [
    {
     "data": {
      "text/plain": [
       "<re.Match object; span=(0, 3), match='aaa'>"
      ]
     },
     "execution_count": 89,
     "metadata": {},
     "output_type": "execute_result"
    }
   ],
   "source": [
    "re.search(r'a{3,5}?', 'aaaaa')  # 최소의 경우인 3번 반복 패턴으로 검색"
   ]
  },
  {
   "cell_type": "markdown",
   "metadata": {},
   "source": [
    "### match\n",
    "- search와 유사하나, 주어진 문자열의 **시작부터 비교하여 패턴이 있는지 확인**\n",
    "- 시작부터 해당 패턴이 존재하지 않는다면 None"
   ]
  },
  {
   "cell_type": "code",
   "execution_count": 93,
   "metadata": {},
   "outputs": [],
   "source": [
    "re.match(r'\\d\\d\\d', 'my number is 123')"
   ]
  },
  {
   "cell_type": "code",
   "execution_count": 94,
   "metadata": {},
   "outputs": [
    {
     "data": {
      "text/plain": [
       "<re.Match object; span=(13, 16), match='123'>"
      ]
     },
     "execution_count": 94,
     "metadata": {},
     "output_type": "execute_result"
    }
   ],
   "source": [
    "re.search(r'\\d\\d\\d', 'my number is 123')"
   ]
  },
  {
   "cell_type": "markdown",
   "metadata": {},
   "source": [
    "### findall\n",
    "- search는 최초로 매칭되는 패턴만 반환하지만, findall은 매칭되는 전체의 패턴을 반환한다.\n",
    "- **매칭되는 모든 결과를 리스트 형태로 반환**"
   ]
  },
  {
   "cell_type": "code",
   "execution_count": 95,
   "metadata": {},
   "outputs": [
    {
     "data": {
      "text/plain": [
       "['test@gmail.com', 'test2@gmail.com']"
      ]
     },
     "execution_count": 95,
     "metadata": {},
     "output_type": "execute_result"
    }
   ],
   "source": [
    "re.findall(r'[\\w-]+@[\\w.]+', 'test@gmail.com haha test2@gmail.com nice to meet you')"
   ]
  },
  {
   "cell_type": "markdown",
   "metadata": {},
   "source": [
    "### sub\n",
    "- 주어진 문자열에서 일치하는 모든 패턴을 replace (치환)\n",
    "- 그 결과를 문자열로 다시 반환함\n",
    "- 두번째 인자는 특정 문자열이 돌 수도 있고, 함수가 될 수도 있음\n",
    "- count가 0인 경우는 전체를, 1이상이면 해당 숫자만큼 치환됨"
   ]
  },
  {
   "cell_type": "code",
   "execution_count": 97,
   "metadata": {},
   "outputs": [
    {
     "data": {
      "text/plain": [
       "'great haha great nice to meet you'"
      ]
     },
     "execution_count": 97,
     "metadata": {},
     "output_type": "execute_result"
    }
   ],
   "source": [
    "re.sub(r'[\\w-]+@[\\w.]+','great', 'test@gmail.com haha test2@gmail.com nice to meet you')"
   ]
  },
  {
   "cell_type": "code",
   "execution_count": 98,
   "metadata": {},
   "outputs": [
    {
     "data": {
      "text/plain": [
       "'great haha test2@gmail.com nice to meet you'"
      ]
     },
     "execution_count": 98,
     "metadata": {},
     "output_type": "execute_result"
    }
   ],
   "source": [
    "re.sub(r'[\\w-]+@[\\w.]+','great', 'test@gmail.com haha test2@gmail.com nice to meet you', count = 1)"
   ]
  },
  {
   "cell_type": "markdown",
   "metadata": {},
   "source": [
    "### compile\n",
    "- 동일한 정규표현식을 매번 다시 쓰기 번거로움을 해결\n",
    "- compile로 해당표현식을 re.RegexObject 객체로 저장하여 사용가능"
   ]
  },
  {
   "cell_type": "code",
   "execution_count": 100,
   "metadata": {},
   "outputs": [
    {
     "data": {
      "text/plain": [
       "<re.Match object; span=(0, 14), match='test@gmail.com'>"
      ]
     },
     "execution_count": 100,
     "metadata": {},
     "output_type": "execute_result"
    }
   ],
   "source": [
    "email_reg = re.compile('[\\w-]+@[\\w.]+')\n",
    "\n",
    "email_reg.search('test@gmail.com haha test2@gmail.com nice to meet you')"
   ]
  },
  {
   "cell_type": "code",
   "execution_count": null,
   "metadata": {},
   "outputs": [],
   "source": []
  }
 ],
 "metadata": {
  "kernelspec": {
   "display_name": "Python 3",
   "language": "python",
   "name": "python3"
  },
  "language_info": {
   "codemirror_mode": {
    "name": "ipython",
    "version": 3
   },
   "file_extension": ".py",
   "mimetype": "text/x-python",
   "name": "python",
   "nbconvert_exporter": "python",
   "pygments_lexer": "ipython3",
   "version": "3.8.5"
  }
 },
 "nbformat": 4,
 "nbformat_minor": 4
}
